{
 "cells": [
  {
   "cell_type": "code",
   "execution_count": 98,
   "source": [
    "from tensorflow.keras.models import Sequential\r\n",
    "from tensorflow.keras.layers import Dense, Convolution2D,MaxPooling2D,Flatten\r\n",
    "from tensorflow.keras.preprocessing.image import ImageDataGenerator"
   ],
   "outputs": [],
   "metadata": {}
  },
  {
   "cell_type": "code",
   "execution_count": 99,
   "source": [
    "train_datagen = ImageDataGenerator(rescale = 1./255, shear_range = 0.2, zoom_range = 0.2 , horizontal_flip = True)\r\n",
    "test_datagen = ImageDataGenerator(rescale = 1./255)"
   ],
   "outputs": [],
   "metadata": {}
  },
  {
   "cell_type": "code",
   "execution_count": 100,
   "source": [
    "x_train = train_datagen.flow_from_directory(r\"E:\\SmartInternz_Pynb\\Image_for_ass6 data\\trainset\", target_size = (64,64), batch_size = 16, class_mode = \"categorical\")\r\n",
    "x_test = test_datagen.flow_from_directory(r\"E:\\SmartInternz_Pynb\\Image_for_ass6 data\\testset\", target_size = (64,64), batch_size = 16, class_mode = \"categorical\")"
   ],
   "outputs": [
    {
     "output_type": "stream",
     "name": "stdout",
     "text": [
      "Found 70 images belonging to 10 classes.\n",
      "Found 30 images belonging to 10 classes.\n"
     ]
    }
   ],
   "metadata": {}
  },
  {
   "cell_type": "code",
   "execution_count": 101,
   "source": [
    "cnn = Sequential()"
   ],
   "outputs": [],
   "metadata": {}
  },
  {
   "cell_type": "code",
   "execution_count": 102,
   "source": [
    "cnn.add(Convolution2D(32, (3, 3), input_shape= (64, 64, 3)))"
   ],
   "outputs": [],
   "metadata": {}
  },
  {
   "cell_type": "code",
   "execution_count": 103,
   "source": [
    "cnn.add(MaxPooling2D((2,2)))"
   ],
   "outputs": [],
   "metadata": {}
  },
  {
   "cell_type": "code",
   "execution_count": 104,
   "source": [
    "cnn.add(Flatten())"
   ],
   "outputs": [],
   "metadata": {}
  },
  {
   "cell_type": "code",
   "execution_count": 105,
   "source": [
    "cnn.add(Dense(units = 120, kernel_initializer = \"random_uniform\", activation = \"relu\"))"
   ],
   "outputs": [],
   "metadata": {}
  },
  {
   "cell_type": "code",
   "execution_count": 106,
   "source": [
    "cnn.add(Dense(units = 10, kernel_initializer = \"random_uniform\", activation = \"softmax\"))"
   ],
   "outputs": [],
   "metadata": {}
  },
  {
   "cell_type": "code",
   "execution_count": 107,
   "source": [
    "cnn.compile(optimizer = \"rmsprop\", loss = \"categorical_crossentropy\", metrics = [\"accuracy\"])"
   ],
   "outputs": [],
   "metadata": {}
  },
  {
   "cell_type": "code",
   "execution_count": 108,
   "source": [
    "cnn.fit_generator(x_train , steps_per_epoch = 70/16, epochs = 20, validation_data = x_test , validation_steps = 30/16)"
   ],
   "outputs": [
    {
     "output_type": "stream",
     "name": "stdout",
     "text": [
      "Epoch 1/20\n",
      "4/4 [==============================] - 9s 2s/step - loss: 3.3112 - accuracy: 0.0714 - val_loss: 2.5390 - val_accuracy: 0.0667\n",
      "Epoch 2/20\n",
      "4/4 [==============================] - 7s 2s/step - loss: 2.2349 - accuracy: 0.2857 - val_loss: 2.2166 - val_accuracy: 0.2000\n",
      "Epoch 3/20\n",
      "4/4 [==============================] - 7s 2s/step - loss: 1.9537 - accuracy: 0.2286 - val_loss: 2.3277 - val_accuracy: 0.2000\n",
      "Epoch 4/20\n",
      "4/4 [==============================] - 6s 1s/step - loss: 1.9150 - accuracy: 0.4000 - val_loss: 2.3359 - val_accuracy: 0.1000\n",
      "Epoch 5/20\n",
      "4/4 [==============================] - 6s 1s/step - loss: 1.6630 - accuracy: 0.4714 - val_loss: 2.3924 - val_accuracy: 0.1333\n",
      "Epoch 6/20\n",
      "4/4 [==============================] - 6s 2s/step - loss: 1.5239 - accuracy: 0.5429 - val_loss: 2.5549 - val_accuracy: 0.1000\n",
      "Epoch 7/20\n",
      "4/4 [==============================] - 7s 2s/step - loss: 1.4882 - accuracy: 0.4571 - val_loss: 2.5326 - val_accuracy: 0.2333\n",
      "Epoch 8/20\n",
      "4/4 [==============================] - 7s 2s/step - loss: 1.2629 - accuracy: 0.6143 - val_loss: 2.6938 - val_accuracy: 0.3000\n",
      "Epoch 9/20\n",
      "4/4 [==============================] - 7s 2s/step - loss: 1.2482 - accuracy: 0.6429 - val_loss: 2.8599 - val_accuracy: 0.1333\n",
      "Epoch 10/20\n",
      "4/4 [==============================] - 7s 2s/step - loss: 1.1141 - accuracy: 0.6286 - val_loss: 2.8568 - val_accuracy: 0.2667\n",
      "Epoch 11/20\n",
      "4/4 [==============================] - 7s 2s/step - loss: 0.9465 - accuracy: 0.7571 - val_loss: 2.9116 - val_accuracy: 0.2333\n",
      "Epoch 12/20\n",
      "4/4 [==============================] - 7s 2s/step - loss: 0.9419 - accuracy: 0.6571 - val_loss: 2.9405 - val_accuracy: 0.1667\n",
      "Epoch 13/20\n",
      "4/4 [==============================] - 7s 2s/step - loss: 0.8734 - accuracy: 0.7857 - val_loss: 3.2070 - val_accuracy: 0.1000\n",
      "Epoch 14/20\n",
      "4/4 [==============================] - 7s 2s/step - loss: 0.9448 - accuracy: 0.6714 - val_loss: 3.3374 - val_accuracy: 0.1000\n",
      "Epoch 15/20\n",
      "4/4 [==============================] - 7s 2s/step - loss: 0.7720 - accuracy: 0.8429 - val_loss: 3.0844 - val_accuracy: 0.1667\n",
      "Epoch 16/20\n",
      "4/4 [==============================] - 7s 2s/step - loss: 0.6387 - accuracy: 0.8143 - val_loss: 3.2426 - val_accuracy: 0.1333\n",
      "Epoch 17/20\n",
      "4/4 [==============================] - 7s 2s/step - loss: 0.7041 - accuracy: 0.8143 - val_loss: 3.1317 - val_accuracy: 0.1000\n",
      "Epoch 18/20\n",
      "4/4 [==============================] - 7s 2s/step - loss: 0.4381 - accuracy: 0.9429 - val_loss: 3.4126 - val_accuracy: 0.3000\n",
      "Epoch 19/20\n",
      "4/4 [==============================] - 7s 2s/step - loss: 0.4602 - accuracy: 0.8714 - val_loss: 3.8138 - val_accuracy: 0.1000\n",
      "Epoch 20/20\n",
      "4/4 [==============================] - 7s 2s/step - loss: 0.3728 - accuracy: 0.9286 - val_loss: 3.2430 - val_accuracy: 0.2000\n"
     ]
    },
    {
     "output_type": "execute_result",
     "data": {
      "text/plain": [
       "<keras.callbacks.History at 0x1a18efa2640>"
      ]
     },
     "metadata": {},
     "execution_count": 108
    }
   ],
   "metadata": {
    "scrolled": false
   }
  },
  {
   "cell_type": "code",
   "execution_count": 109,
   "source": [
    "cnn.save(\"Image.h5\")"
   ],
   "outputs": [],
   "metadata": {}
  },
  {
   "cell_type": "code",
   "execution_count": 110,
   "source": [
    "from tensorflow.keras.models import load_model\r\n",
    "from tensorflow.keras.preprocessing import image"
   ],
   "outputs": [],
   "metadata": {}
  },
  {
   "cell_type": "code",
   "execution_count": 111,
   "source": [
    "mod=load_model(\"Image.h5\")"
   ],
   "outputs": [],
   "metadata": {}
  },
  {
   "cell_type": "code",
   "execution_count": 112,
   "source": [
    "img1 = image.load_img(\"cat1.jpg\", target_size=(64,64))\r\n",
    "img2 = image.load_img(\"elephant6.jpg\", target_size=(64,64))\r\n",
    "img3 = image.load_img(\"fish1.jpg\", target_size=(64,64))\r\n",
    "img4 = image.load_img(\"iguana1.jpg\", target_size=(64,64))\r\n",
    "img5 = image.load_img(\"lemur6.jpg\", target_size=(64,64))"
   ],
   "outputs": [],
   "metadata": {
    "scrolled": false
   }
  },
  {
   "cell_type": "code",
   "execution_count": 113,
   "source": [
    "x1 = image.img_to_array(img1)\r\n",
    "x2 = image.img_to_array(img2)\r\n",
    "x3 = image.img_to_array(img3)\r\n",
    "x4 = image.img_to_array(img4)\r\n",
    "x5 = image.img_to_array(img5)"
   ],
   "outputs": [],
   "metadata": {}
  },
  {
   "cell_type": "code",
   "execution_count": 114,
   "source": [
    "import numpy as np\r\n",
    "x1 = np.expand_dims(x1, axis = 0)\r\n",
    "x2 = np.expand_dims(x2, axis = 0)\r\n",
    "x3 = np.expand_dims(x3, axis = 0)\r\n",
    "x4 = np.expand_dims(x4, axis = 0)\r\n",
    "x5 = np.expand_dims(x5, axis = 0)"
   ],
   "outputs": [],
   "metadata": {}
  },
  {
   "cell_type": "code",
   "execution_count": 115,
   "source": [
    "cat = mod.predict(x1)\r\n",
    "elephant = mod.predict(x2)\r\n",
    "fish = mod.predict(x3)\r\n",
    "iguana = mod.predict(x4)\r\n",
    "lemur = mod.predict(x5)"
   ],
   "outputs": [],
   "metadata": {}
  },
  {
   "cell_type": "code",
   "execution_count": 116,
   "source": [
    "cat[0]"
   ],
   "outputs": [
    {
     "output_type": "execute_result",
     "data": {
      "text/plain": [
       "array([1., 0., 0., 0., 0., 0., 0., 0., 0., 0.], dtype=float32)"
      ]
     },
     "metadata": {},
     "execution_count": 116
    }
   ],
   "metadata": {}
  },
  {
   "cell_type": "code",
   "execution_count": 117,
   "source": [
    "elephant[0]"
   ],
   "outputs": [
    {
     "output_type": "execute_result",
     "data": {
      "text/plain": [
       "array([0., 0., 0., 1., 0., 0., 0., 0., 0., 0.], dtype=float32)"
      ]
     },
     "metadata": {},
     "execution_count": 117
    }
   ],
   "metadata": {}
  },
  {
   "cell_type": "code",
   "execution_count": 118,
   "source": [
    "fish[0]"
   ],
   "outputs": [
    {
     "output_type": "execute_result",
     "data": {
      "text/plain": [
       "array([0., 0., 0., 0., 0., 1., 0., 0., 0., 0.], dtype=float32)"
      ]
     },
     "metadata": {},
     "execution_count": 118
    }
   ],
   "metadata": {}
  },
  {
   "cell_type": "code",
   "execution_count": 119,
   "source": [
    "iguana[0]"
   ],
   "outputs": [
    {
     "output_type": "execute_result",
     "data": {
      "text/plain": [
       "array([0., 0., 0., 0., 0., 0., 0., 1., 0., 0.], dtype=float32)"
      ]
     },
     "metadata": {},
     "execution_count": 119
    }
   ],
   "metadata": {}
  },
  {
   "cell_type": "code",
   "execution_count": 120,
   "source": [
    "lemur[0]"
   ],
   "outputs": [
    {
     "output_type": "execute_result",
     "data": {
      "text/plain": [
       "array([0., 0., 0., 0., 0., 0., 0., 0., 1., 0.], dtype=float32)"
      ]
     },
     "metadata": {},
     "execution_count": 120
    }
   ],
   "metadata": {}
  },
  {
   "cell_type": "code",
   "execution_count": 121,
   "source": [
    "image = [\"cat\", \"eagle\", \"eel\", \"elephant\", \"elk\", \"fish\", \"hen\", \"iguana\", \"lemur\", \"newt\"]"
   ],
   "outputs": [],
   "metadata": {}
  },
  {
   "cell_type": "code",
   "execution_count": 122,
   "source": [
    "cat = image[np.argmax(cat[0])]\r\n",
    "cat"
   ],
   "outputs": [
    {
     "output_type": "execute_result",
     "data": {
      "text/plain": [
       "'cat'"
      ]
     },
     "metadata": {},
     "execution_count": 122
    }
   ],
   "metadata": {}
  },
  {
   "cell_type": "code",
   "execution_count": 123,
   "source": [
    "elephant = image[np.argmax(elephant[0])]\r\n",
    "elephant"
   ],
   "outputs": [
    {
     "output_type": "execute_result",
     "data": {
      "text/plain": [
       "'elephant'"
      ]
     },
     "metadata": {},
     "execution_count": 123
    }
   ],
   "metadata": {}
  },
  {
   "cell_type": "code",
   "execution_count": 124,
   "source": [
    "fish = image[np.argmax(fish[0])]\r\n",
    "fish"
   ],
   "outputs": [
    {
     "output_type": "execute_result",
     "data": {
      "text/plain": [
       "'fish'"
      ]
     },
     "metadata": {},
     "execution_count": 124
    }
   ],
   "metadata": {}
  },
  {
   "cell_type": "code",
   "execution_count": 125,
   "source": [
    "iguana = image[np.argmax(iguana[0])]\r\n",
    "iguana"
   ],
   "outputs": [
    {
     "output_type": "execute_result",
     "data": {
      "text/plain": [
       "'iguana'"
      ]
     },
     "metadata": {},
     "execution_count": 125
    }
   ],
   "metadata": {}
  },
  {
   "cell_type": "code",
   "execution_count": 126,
   "source": [
    "lemur = image[np.argmax(lemur[0])]\r\n",
    "lemur"
   ],
   "outputs": [
    {
     "output_type": "execute_result",
     "data": {
      "text/plain": [
       "'lemur'"
      ]
     },
     "metadata": {},
     "execution_count": 126
    }
   ],
   "metadata": {}
  },
  {
   "cell_type": "code",
   "execution_count": null,
   "source": [],
   "outputs": [],
   "metadata": {}
  },
  {
   "cell_type": "code",
   "execution_count": null,
   "source": [],
   "outputs": [],
   "metadata": {}
  },
  {
   "cell_type": "code",
   "execution_count": null,
   "source": [],
   "outputs": [],
   "metadata": {}
  }
 ],
 "metadata": {
  "kernelspec": {
   "name": "python3",
   "display_name": "Python 3.8.5 64-bit (conda)"
  },
  "language_info": {
   "codemirror_mode": {
    "name": "ipython",
    "version": 3
   },
   "file_extension": ".py",
   "mimetype": "text/x-python",
   "name": "python",
   "nbconvert_exporter": "python",
   "pygments_lexer": "ipython3",
   "version": "3.8.5"
  },
  "interpreter": {
   "hash": "9d3bae0a0f66551680ef8a166f6b92cc2774d5d7901f027deb7bb883ed06d5ae"
  }
 },
 "nbformat": 4,
 "nbformat_minor": 4
}