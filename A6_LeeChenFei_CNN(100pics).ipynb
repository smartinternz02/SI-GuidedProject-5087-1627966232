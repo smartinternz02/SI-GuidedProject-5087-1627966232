{
 "cells": [
  {
   "cell_type": "code",
   "execution_count": 1,
   "metadata": {},
   "outputs": [],
   "source": [
    "from tensorflow.keras.models import Sequential\n",
    "from tensorflow.keras.layers import Dense, Convolution2D,MaxPooling2D,Flatten\n",
    "from tensorflow.keras.preprocessing.image import ImageDataGenerator"
   ]
  },
  {
   "cell_type": "code",
   "execution_count": 2,
   "metadata": {},
   "outputs": [],
   "source": [
    "train_datagen = ImageDataGenerator(rescale = 1./255, shear_range = 0.2, zoom_range = 0.2 , horizontal_flip = True)\n",
    "test_datagen = ImageDataGenerator(rescale = 1./255)"
   ]
  },
  {
   "cell_type": "code",
   "execution_count": 3,
   "metadata": {},
   "outputs": [
    {
     "name": "stdout",
     "output_type": "stream",
     "text": [
      "Found 100 images belonging to 10 classes.\n",
      "Found 100 images belonging to 10 classes.\n"
     ]
    }
   ],
   "source": [
    "x_train = train_datagen.flow_from_directory(r\"E:\\SmartInternz_Pynb\\Image_for_ass6 data\\trainset\", target_size = (64,64), batch_size = 32, class_mode = \"categorical\")\n",
    "x_test = test_datagen.flow_from_directory(r\"E:\\SmartInternz_Pynb\\Image_for_ass6 data\\testset\", target_size = (64,64), batch_size = 32, class_mode = \"categorical\")"
   ]
  },
  {
   "cell_type": "code",
   "execution_count": 4,
   "metadata": {},
   "outputs": [],
   "source": [
    "cnn = Sequential()"
   ]
  },
  {
   "cell_type": "code",
   "execution_count": 5,
   "metadata": {},
   "outputs": [],
   "source": [
    "cnn.add(Convolution2D(32, (3, 3), input_shape= (64, 64, 3)))"
   ]
  },
  {
   "cell_type": "code",
   "execution_count": 6,
   "metadata": {},
   "outputs": [],
   "source": [
    "cnn.add(MaxPooling2D((2,2)))"
   ]
  },
  {
   "cell_type": "code",
   "execution_count": 7,
   "metadata": {},
   "outputs": [],
   "source": [
    "cnn.add(Flatten())"
   ]
  },
  {
   "cell_type": "code",
   "execution_count": 8,
   "metadata": {},
   "outputs": [],
   "source": [
    "cnn.add(Dense(units = 100, kernel_initializer = \"random_uniform\", activation = \"relu\"))"
   ]
  },
  {
   "cell_type": "code",
   "execution_count": 9,
   "metadata": {},
   "outputs": [],
   "source": [
    "cnn.add(Dense(units = 10, kernel_initializer = \"random_uniform\", activation = \"softmax\"))"
   ]
  },
  {
   "cell_type": "code",
   "execution_count": 10,
   "metadata": {},
   "outputs": [],
   "source": [
    "cnn.compile(optimizer = \"rmsprop\", loss = \"categorical_crossentropy\", metrics = [\"accuracy\"])"
   ]
  },
  {
   "cell_type": "code",
   "execution_count": 11,
   "metadata": {
    "scrolled": false
   },
   "outputs": [
    {
     "name": "stderr",
     "output_type": "stream",
     "text": [
      "C:\\Users\\User\\anaconda3\\lib\\site-packages\\keras\\engine\\training.py:1972: UserWarning: `Model.fit_generator` is deprecated and will be removed in a future version. Please use `Model.fit`, which supports generators.\n",
      "  warnings.warn('`Model.fit_generator` is deprecated and '\n"
     ]
    },
    {
     "name": "stdout",
     "output_type": "stream",
     "text": [
      "Epoch 1/50\n",
      "4/4 [==============================] - 16s 5s/step - loss: 3.6186 - accuracy: 0.1300 - val_loss: 2.3161 - val_accuracy: 0.1400\n",
      "Epoch 2/50\n",
      "4/4 [==============================] - 12s 3s/step - loss: 2.4052 - accuracy: 0.1000 - val_loss: 2.1733 - val_accuracy: 0.2900\n",
      "Epoch 3/50\n",
      "4/4 [==============================] - 12s 4s/step - loss: 2.2156 - accuracy: 0.2000 - val_loss: 2.0433 - val_accuracy: 0.4000\n",
      "Epoch 4/50\n",
      "4/4 [==============================] - 12s 4s/step - loss: 2.1737 - accuracy: 0.2100 - val_loss: 1.9544 - val_accuracy: 0.3600\n",
      "Epoch 5/50\n",
      "4/4 [==============================] - 12s 4s/step - loss: 2.0836 - accuracy: 0.2400 - val_loss: 1.8947 - val_accuracy: 0.3600\n",
      "Epoch 6/50\n",
      "4/4 [==============================] - 10s 3s/step - loss: 1.9714 - accuracy: 0.3500 - val_loss: 1.8311 - val_accuracy: 0.3500\n",
      "Epoch 7/50\n",
      "4/4 [==============================] - 12s 3s/step - loss: 1.9559 - accuracy: 0.2900 - val_loss: 1.7841 - val_accuracy: 0.4700\n",
      "Epoch 8/50\n",
      "4/4 [==============================] - 12s 4s/step - loss: 1.8500 - accuracy: 0.3900 - val_loss: 1.8982 - val_accuracy: 0.3000\n",
      "Epoch 9/50\n",
      "4/4 [==============================] - 11s 4s/step - loss: 1.9007 - accuracy: 0.4100 - val_loss: 1.6022 - val_accuracy: 0.5600\n",
      "Epoch 10/50\n",
      "4/4 [==============================] - 11s 3s/step - loss: 1.8593 - accuracy: 0.3700 - val_loss: 1.6009 - val_accuracy: 0.5300\n",
      "Epoch 11/50\n",
      "4/4 [==============================] - 12s 3s/step - loss: 1.6645 - accuracy: 0.4200 - val_loss: 1.4920 - val_accuracy: 0.6400\n",
      "Epoch 12/50\n",
      "4/4 [==============================] - 11s 3s/step - loss: 1.6932 - accuracy: 0.4300 - val_loss: 1.4289 - val_accuracy: 0.5900\n",
      "Epoch 13/50\n",
      "4/4 [==============================] - 12s 3s/step - loss: 1.5003 - accuracy: 0.5300 - val_loss: 1.4605 - val_accuracy: 0.5000\n",
      "Epoch 14/50\n",
      "4/4 [==============================] - 11s 3s/step - loss: 1.6296 - accuracy: 0.4000 - val_loss: 1.3572 - val_accuracy: 0.6200\n",
      "Epoch 15/50\n",
      "4/4 [==============================] - 11s 3s/step - loss: 1.4463 - accuracy: 0.5400 - val_loss: 1.4153 - val_accuracy: 0.4500\n",
      "Epoch 16/50\n",
      "4/4 [==============================] - 12s 3s/step - loss: 1.5299 - accuracy: 0.4100 - val_loss: 1.2318 - val_accuracy: 0.5600\n",
      "Epoch 17/50\n",
      "4/4 [==============================] - 12s 3s/step - loss: 1.5277 - accuracy: 0.4900 - val_loss: 1.2422 - val_accuracy: 0.6100\n",
      "Epoch 18/50\n",
      "4/4 [==============================] - 10s 3s/step - loss: 1.2826 - accuracy: 0.6400 - val_loss: 1.0823 - val_accuracy: 0.6800\n",
      "Epoch 19/50\n",
      "4/4 [==============================] - 12s 4s/step - loss: 1.1981 - accuracy: 0.6800 - val_loss: 0.9839 - val_accuracy: 0.7600\n",
      "Epoch 20/50\n",
      "4/4 [==============================] - 11s 3s/step - loss: 1.3159 - accuracy: 0.5500 - val_loss: 1.0444 - val_accuracy: 0.7200\n",
      "Epoch 21/50\n",
      "4/4 [==============================] - 10s 2s/step - loss: 1.1205 - accuracy: 0.6500 - val_loss: 1.0714 - val_accuracy: 0.6100\n",
      "Epoch 22/50\n",
      "4/4 [==============================] - 12s 3s/step - loss: 1.2209 - accuracy: 0.5700 - val_loss: 0.8695 - val_accuracy: 0.8100\n",
      "Epoch 23/50\n",
      "4/4 [==============================] - 11s 3s/step - loss: 0.9931 - accuracy: 0.7200 - val_loss: 1.5169 - val_accuracy: 0.3800\n",
      "Epoch 24/50\n",
      "4/4 [==============================] - 11s 3s/step - loss: 1.2421 - accuracy: 0.5700 - val_loss: 0.9328 - val_accuracy: 0.6800\n",
      "Epoch 25/50\n",
      "4/4 [==============================] - 10s 3s/step - loss: 0.9747 - accuracy: 0.7100 - val_loss: 0.7432 - val_accuracy: 0.8600\n",
      "Epoch 26/50\n",
      "4/4 [==============================] - 12s 3s/step - loss: 1.1786 - accuracy: 0.6200 - val_loss: 0.7106 - val_accuracy: 0.8300\n",
      "Epoch 27/50\n",
      "4/4 [==============================] - 12s 3s/step - loss: 0.8144 - accuracy: 0.7800 - val_loss: 0.9481 - val_accuracy: 0.6500\n",
      "Epoch 28/50\n",
      "4/4 [==============================] - 11s 3s/step - loss: 0.8086 - accuracy: 0.7500 - val_loss: 1.2881 - val_accuracy: 0.4800\n",
      "Epoch 29/50\n",
      "4/4 [==============================] - 10s 3s/step - loss: 0.9373 - accuracy: 0.6100 - val_loss: 0.6136 - val_accuracy: 0.8700\n",
      "Epoch 30/50\n",
      "4/4 [==============================] - 12s 4s/step - loss: 0.6811 - accuracy: 0.8700 - val_loss: 0.6614 - val_accuracy: 0.7600\n",
      "Epoch 31/50\n",
      "4/4 [==============================] - 12s 3s/step - loss: 0.9244 - accuracy: 0.6600 - val_loss: 0.5662 - val_accuracy: 0.8700\n",
      "Epoch 32/50\n",
      "4/4 [==============================] - 10s 3s/step - loss: 0.6826 - accuracy: 0.7800 - val_loss: 0.4474 - val_accuracy: 0.9300\n",
      "Epoch 33/50\n",
      "4/4 [==============================] - 12s 3s/step - loss: 0.7814 - accuracy: 0.7500 - val_loss: 0.4855 - val_accuracy: 0.9000\n",
      "Epoch 34/50\n",
      "4/4 [==============================] - 10s 3s/step - loss: 0.5733 - accuracy: 0.8800 - val_loss: 0.4478 - val_accuracy: 0.8900\n",
      "Epoch 35/50\n",
      "4/4 [==============================] - 12s 3s/step - loss: 0.5735 - accuracy: 0.8400 - val_loss: 0.4183 - val_accuracy: 0.9200\n",
      "Epoch 36/50\n",
      "4/4 [==============================] - 11s 3s/step - loss: 0.6427 - accuracy: 0.8500 - val_loss: 0.4567 - val_accuracy: 0.8800\n",
      "Epoch 37/50\n",
      "4/4 [==============================] - 11s 4s/step - loss: 0.4718 - accuracy: 0.8900 - val_loss: 0.3529 - val_accuracy: 0.9300\n",
      "Epoch 38/50\n",
      "4/4 [==============================] - 10s 3s/step - loss: 0.4855 - accuracy: 0.8900 - val_loss: 0.3720 - val_accuracy: 0.9100\n",
      "Epoch 39/50\n",
      "4/4 [==============================] - 12s 3s/step - loss: 0.5930 - accuracy: 0.8000 - val_loss: 0.2844 - val_accuracy: 0.9500\n",
      "Epoch 40/50\n",
      "4/4 [==============================] - 10s 3s/step - loss: 0.4299 - accuracy: 0.9200 - val_loss: 1.1376 - val_accuracy: 0.5400\n",
      "Epoch 41/50\n",
      "4/4 [==============================] - 12s 4s/step - loss: 0.5944 - accuracy: 0.8100 - val_loss: 0.3570 - val_accuracy: 0.9000\n",
      "Epoch 42/50\n",
      "4/4 [==============================] - 10s 2s/step - loss: 0.4812 - accuracy: 0.8500 - val_loss: 0.2666 - val_accuracy: 0.9800\n",
      "Epoch 43/50\n",
      "4/4 [==============================] - 12s 3s/step - loss: 0.2989 - accuracy: 0.9700 - val_loss: 0.2523 - val_accuracy: 0.9400\n",
      "Epoch 44/50\n",
      "4/4 [==============================] - 12s 4s/step - loss: 0.2797 - accuracy: 0.9700 - val_loss: 0.1795 - val_accuracy: 0.9800\n",
      "Epoch 45/50\n",
      "4/4 [==============================] - 10s 3s/step - loss: 0.2584 - accuracy: 0.9700 - val_loss: 0.1889 - val_accuracy: 0.9600\n",
      "Epoch 46/50\n",
      "4/4 [==============================] - 12s 3s/step - loss: 0.2414 - accuracy: 0.9600 - val_loss: 0.4502 - val_accuracy: 0.8700\n",
      "Epoch 47/50\n",
      "4/4 [==============================] - 10s 3s/step - loss: 0.2661 - accuracy: 0.9600 - val_loss: 0.1209 - val_accuracy: 1.0000\n",
      "Epoch 48/50\n",
      "4/4 [==============================] - 10s 2s/step - loss: 0.2258 - accuracy: 0.9800 - val_loss: 0.1505 - val_accuracy: 0.9800\n",
      "Epoch 49/50\n",
      "4/4 [==============================] - 12s 4s/step - loss: 0.2089 - accuracy: 0.9600 - val_loss: 0.1262 - val_accuracy: 0.9900\n",
      "Epoch 50/50\n",
      "4/4 [==============================] - 12s 3s/step - loss: 0.1852 - accuracy: 0.9600 - val_loss: 0.1276 - val_accuracy: 1.0000\n"
     ]
    },
    {
     "data": {
      "text/plain": [
       "<keras.callbacks.History at 0x1eb6fbda100>"
      ]
     },
     "execution_count": 11,
     "metadata": {},
     "output_type": "execute_result"
    }
   ],
   "source": [
    "cnn.fit_generator(x_train , steps_per_epoch = len(x_train) , epochs = 50, validation_data = x_test , validation_steps = len(x_test))"
   ]
  },
  {
   "cell_type": "code",
   "execution_count": 12,
   "metadata": {},
   "outputs": [],
   "source": [
    "cnn.save(\"Image.h5\")"
   ]
  },
  {
   "cell_type": "code",
   "execution_count": 13,
   "metadata": {},
   "outputs": [],
   "source": [
    "from tensorflow.keras.models import load_model\n",
    "from tensorflow.keras.preprocessing import image"
   ]
  },
  {
   "cell_type": "code",
   "execution_count": 14,
   "metadata": {},
   "outputs": [],
   "source": [
    "mod=load_model(\"Image.h5\")"
   ]
  },
  {
   "cell_type": "code",
   "execution_count": 15,
   "metadata": {
    "scrolled": false
   },
   "outputs": [],
   "source": [
    "img1 = image.load_img(\"cat1.jpg\", target_size=(64,64))\n",
    "img2 = image.load_img(\"elephant6.jpg\", target_size=(64,64))\n",
    "img3 = image.load_img(\"fish1.jpg\", target_size=(64,64))\n",
    "img4 = image.load_img(\"iguana1.jpg\", target_size=(64,64))\n",
    "img5 = image.load_img(\"lemur6.jpg\", target_size=(64,64))"
   ]
  },
  {
   "cell_type": "code",
   "execution_count": 16,
   "metadata": {},
   "outputs": [],
   "source": [
    "x1 = image.img_to_array(img1)\n",
    "x2 = image.img_to_array(img2)\n",
    "x3 = image.img_to_array(img3)\n",
    "x4 = image.img_to_array(img4)\n",
    "x5 = image.img_to_array(img5)"
   ]
  },
  {
   "cell_type": "code",
   "execution_count": 17,
   "metadata": {},
   "outputs": [],
   "source": [
    "import numpy as np\n",
    "x1 = np.expand_dims(x1, axis = 0)\n",
    "x2 = np.expand_dims(x2, axis = 0)\n",
    "x3 = np.expand_dims(x3, axis = 0)\n",
    "x4 = np.expand_dims(x4, axis = 0)\n",
    "x5 = np.expand_dims(x5, axis = 0)"
   ]
  },
  {
   "cell_type": "code",
   "execution_count": 18,
   "metadata": {},
   "outputs": [],
   "source": [
    "cat = mod.predict(x1)\n",
    "elephant = mod.predict(x2)\n",
    "fish = mod.predict(x3)\n",
    "iguana = mod.predict(x4)\n",
    "lemur = mod.predict(x5)"
   ]
  },
  {
   "cell_type": "code",
   "execution_count": 19,
   "metadata": {},
   "outputs": [
    {
     "data": {
      "text/plain": [
       "array([1., 0., 0., 0., 0., 0., 0., 0., 0., 0.], dtype=float32)"
      ]
     },
     "execution_count": 19,
     "metadata": {},
     "output_type": "execute_result"
    }
   ],
   "source": [
    "cat[0]"
   ]
  },
  {
   "cell_type": "code",
   "execution_count": 20,
   "metadata": {},
   "outputs": [
    {
     "data": {
      "text/plain": [
       "array([0., 0., 0., 1., 0., 0., 0., 0., 0., 0.], dtype=float32)"
      ]
     },
     "execution_count": 20,
     "metadata": {},
     "output_type": "execute_result"
    }
   ],
   "source": [
    "elephant[0]"
   ]
  },
  {
   "cell_type": "code",
   "execution_count": 21,
   "metadata": {},
   "outputs": [
    {
     "data": {
      "text/plain": [
       "array([0., 0., 0., 0., 0., 1., 0., 0., 0., 0.], dtype=float32)"
      ]
     },
     "execution_count": 21,
     "metadata": {},
     "output_type": "execute_result"
    }
   ],
   "source": [
    "fish[0]"
   ]
  },
  {
   "cell_type": "code",
   "execution_count": 22,
   "metadata": {},
   "outputs": [
    {
     "data": {
      "text/plain": [
       "array([0., 0., 0., 0., 0., 0., 0., 1., 0., 0.], dtype=float32)"
      ]
     },
     "execution_count": 22,
     "metadata": {},
     "output_type": "execute_result"
    }
   ],
   "source": [
    "iguana[0]"
   ]
  },
  {
   "cell_type": "code",
   "execution_count": 23,
   "metadata": {},
   "outputs": [
    {
     "data": {
      "text/plain": [
       "array([0., 0., 0., 0., 0., 0., 0., 0., 1., 0.], dtype=float32)"
      ]
     },
     "execution_count": 23,
     "metadata": {},
     "output_type": "execute_result"
    }
   ],
   "source": [
    "lemur[0]"
   ]
  },
  {
   "cell_type": "code",
   "execution_count": 24,
   "metadata": {},
   "outputs": [],
   "source": [
    "image = [\"cat\", \"eagle\", \"eel\", \"elephant\", \"elk\", \"fish\", \"hen\", \"iguana\", \"lemur\", \"newt\"]"
   ]
  },
  {
   "cell_type": "code",
   "execution_count": 25,
   "metadata": {},
   "outputs": [
    {
     "data": {
      "text/plain": [
       "'cat'"
      ]
     },
     "execution_count": 25,
     "metadata": {},
     "output_type": "execute_result"
    }
   ],
   "source": [
    "cat = image[np.argmax(cat[0])]\n",
    "cat"
   ]
  },
  {
   "cell_type": "code",
   "execution_count": 26,
   "metadata": {},
   "outputs": [
    {
     "data": {
      "text/plain": [
       "'elephant'"
      ]
     },
     "execution_count": 26,
     "metadata": {},
     "output_type": "execute_result"
    }
   ],
   "source": [
    "elephant = image[np.argmax(elephant[0])]\n",
    "elephant"
   ]
  },
  {
   "cell_type": "code",
   "execution_count": 27,
   "metadata": {},
   "outputs": [
    {
     "data": {
      "text/plain": [
       "'fish'"
      ]
     },
     "execution_count": 27,
     "metadata": {},
     "output_type": "execute_result"
    }
   ],
   "source": [
    "fish = image[np.argmax(fish[0])]\n",
    "fish"
   ]
  },
  {
   "cell_type": "code",
   "execution_count": 28,
   "metadata": {},
   "outputs": [
    {
     "data": {
      "text/plain": [
       "'iguana'"
      ]
     },
     "execution_count": 28,
     "metadata": {},
     "output_type": "execute_result"
    }
   ],
   "source": [
    "iguana = image[np.argmax(iguana[0])]\n",
    "iguana"
   ]
  },
  {
   "cell_type": "code",
   "execution_count": 29,
   "metadata": {},
   "outputs": [
    {
     "data": {
      "text/plain": [
       "'lemur'"
      ]
     },
     "execution_count": 29,
     "metadata": {},
     "output_type": "execute_result"
    }
   ],
   "source": [
    "lemur = image[np.argmax(lemur[0])]\n",
    "lemur"
   ]
  },
  {
   "cell_type": "code",
   "execution_count": null,
   "metadata": {},
   "outputs": [],
   "source": []
  },
  {
   "cell_type": "code",
   "execution_count": null,
   "metadata": {},
   "outputs": [],
   "source": []
  },
  {
   "cell_type": "code",
   "execution_count": null,
   "metadata": {},
   "outputs": [],
   "source": []
  }
 ],
 "metadata": {
  "kernelspec": {
   "display_name": "Python 3",
   "language": "python",
   "name": "python3"
  },
  "language_info": {
   "codemirror_mode": {
    "name": "ipython",
    "version": 3
   },
   "file_extension": ".py",
   "mimetype": "text/x-python",
   "name": "python",
   "nbconvert_exporter": "python",
   "pygments_lexer": "ipython3",
   "version": "3.8.5"
  }
 },
 "nbformat": 4,
 "nbformat_minor": 4
}
